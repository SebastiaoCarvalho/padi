{
 "cells": [
  {
   "cell_type": "markdown",
   "metadata": {},
   "source": [
    "# Learning and Decision Making"
   ]
  },
  {
   "cell_type": "markdown",
   "metadata": {},
   "source": [
    "## Laboratory 4: Reinforcement learning\n",
    "\n",
    "In the end of the lab, you should export the notebook to a Python script (``File >> Download as >> Python (.py)``). Make sure that the resulting script includes all code written in the tasks marked as \"**Activity n. N**\", together with any replies to specific questions posed. Your file should be named `padi-labKK-groupXXX.py`, where `KK` corresponds to the lab number and the `XXX` corresponds to your group number. Similarly, your homework should consist of a single pdf file named `padi-hwKK-groupXXX.pdf`. You should create a zip file with the lab and homework files and submit it in Fenix **at most 30 minutes after your lab is over**.\n",
    "\n",
    "Make sure to strictly respect the specifications in each activity, in terms of the intended inputs, outputs and naming conventions.\n",
    "\n",
    "In particular, after completing the activities you should be able to replicate the examples provided (although this, in itself, is no guarantee that the activities are correctly completed)."
   ]
  },
  {
   "cell_type": "markdown",
   "metadata": {},
   "source": [
    "### 1. The MDP Model \n",
    "\n",
    "In this lab you will implement several reinforcement learning algorithms, and use the taxi domain from Lab 2 to test and compare these algorithms. Don't forget, however, that your functions should work for **any MDP** and not just the one provided. \n",
    "\n",
    "The taxi domain to be used is represented in the diagram below.\n",
    "\n",
    "<img src=\"taxi.png\" width=\"250px\">\n",
    "\n",
    "In the above domain, \n",
    "\n",
    "* The taxi can be in any of the 25 cells in the diagram. The passenger can be at any of the 4 marked locations ($Y$, $B$, $G$, $R$) or in the taxi. Additionally, the passenger wishes to go to one of the 4 possible destinations. The total number of states, in this case, is $25\\times 5\\times 4$.\n",
    "* At each step, the agent (taxi driver) may move in any of the four directions -- south, north, east and west. It can also pickup the passenger or drop off the passenger. \n",
    "* The goal of the taxi driver is to pickup the passenger and drop it at the passenger's desired destination.\n",
    "\n",
    "**Throughout the lab, unless if stated otherwise, use $\\gamma=0.99$.**\n",
    "\n",
    "$$\\diamond$$\n",
    "\n",
    "We start by loading the MDP for the taxi domain from the file `taxi.npz`. We will use this domain as an example to illustrate the different functions/algorithms you are expected to deploy. The file contains both the MDP, described as a tuple like those from Lab 2, and the corresponding optimal $Q$-function.\n",
    "\n",
    "To do so, you can run the code\n",
    "```python\n",
    "import numpy as np\n",
    "\n",
    "mdp_info = np.load('taxi.npz', allow_pickle=True)\n",
    "\n",
    "# The MDP is a tuple (X, A, P, c, gamma)\n",
    "M = tuple(mdp_info['M'])\n",
    "\n",
    "# We also load the optimal Q-function for the MDP\n",
    "Qopt = mdp_info['Q']\n",
    "```\n",
    "\n",
    "---\n",
    "\n",
    "In the first activity, you will implement a \"simulator of the world\". The simulator consists of a function that enables you to sample a transition from a given MDP. You will then use this function, in subsequent activities, to generate the data that your agent will use to learn."
   ]
  },
  {
   "cell_type": "markdown",
   "metadata": {},
   "source": [
    "---\n",
    "\n",
    "#### Activity 1.        \n",
    "\n",
    "Write a function named `sample_transition` that receives, as input, a tuple representing an arbitrary MDP as well as two integers, `x` and `a`, corresponding to a state and an action. The function should return a tuple `(x, a, c, x')`, where `c` is the cost associated with performing action `a` in state `x` and `x'` is a state generated from `x` upon selecting action `a`, according to the transition probabilities for the MDP.\n",
    "\n",
    "---"
   ]
  },
  {
   "cell_type": "code",
   "execution_count": 43,
   "metadata": {
    "ExecuteTime": {
     "end_time": "2019-12-09T09:18:48.272364Z",
     "start_time": "2019-12-09T09:18:48.264410Z"
    },
    "scrolled": false
   },
   "outputs": [
    {
     "name": "stdout",
     "output_type": "stream",
     "text": [
      "Observed transition:\n",
      "((9, B, B), West, 0.7, (8, B, B))\n",
      "\n",
      "Observed transition:\n",
      "((10, G, B), East, 0.7, (10, G, B))\n",
      "\n",
      "Observed transition:\n",
      "((4, Y, G), Pickup, 1.0, (4, Y, G))\n"
     ]
    }
   ],
   "source": [
    "import numpy as np\n",
    "\n",
    "def sample_transition(mdp, x, a):\n",
    "    X = mdp[0]\n",
    "    P = mdp[2]\n",
    "    C = mdp[3]\n",
    "    x_line = np.random.choice(len(X), p=P[a][x, :])\n",
    "    return (x, a, C[x, a], x_line)\n",
    "\n",
    "import numpy as np\n",
    "\n",
    "mdp_info = np.load('taxi.npz', allow_pickle=True)\n",
    "\n",
    "# The MDP is a tuple (X, A, P, c, gamma)\n",
    "M = tuple(mdp_info['M'])\n",
    "\n",
    "# We also load the optimal Q-function for the MDP\n",
    "Qopt = mdp_info['Q']\n",
    "\n",
    "import numpy.random as rnd\n",
    "\n",
    "rnd.seed(42)\n",
    "\n",
    "# Select random state and action\n",
    "x = 175 # State (9, B, B)\n",
    "a = rnd.randint(len(M[1]))\n",
    "\n",
    "x, a, cnew, xnew = sample_transition(M, x, a)\n",
    "\n",
    "print('Observed transition:\\n(', end='')\n",
    "print(M[0][x], end=', ')\n",
    "print(M[1][a], end=', ')\n",
    "print(cnew, end=', ')\n",
    "print(M[0][xnew], end=')\\n')\n",
    "\n",
    "# Select random state and action\n",
    "x = 187 # State (10, G, B)\n",
    "a = rnd.randint(len(M[1]))\n",
    "\n",
    "x, a, cnew, xnew = sample_transition(M, x, a)\n",
    "\n",
    "print('\\nObserved transition:\\n(', end='')\n",
    "print(M[0][x], end=', ')\n",
    "print(M[1][a], end=', ')\n",
    "print(cnew, end=', ')\n",
    "print(M[0][xnew], end=')\\n')\n",
    "\n",
    "# Select random state and action\n",
    "x = 69 # State (4, Y, G)\n",
    "a = rnd.randint(len(M[1]))\n",
    "\n",
    "x, a, cnew, xnew = sample_transition(M, x, a)\n",
    "\n",
    "print('\\nObserved transition:\\n(', end='')\n",
    "print(M[0][x], end=', ')\n",
    "print(M[1][a], end=', ')\n",
    "print(cnew, end=', ')\n",
    "print(M[0][xnew], end=')\\n')\n"
   ]
  },
  {
   "cell_type": "markdown",
   "metadata": {},
   "source": [
    "All reinforcement learning algorithms that you will implement can only access the MDP through the function `sample_transition` which, in a sense, simulates an \"interaction\" of the agent with the environment.\n",
    "\n",
    "For example, using the taxi MDP, you could run:\n",
    "\n",
    "```python\n",
    "import numpy.random as rnd\n",
    "\n",
    "rnd.seed(42)\n",
    "\n",
    "# Select random state and action\n",
    "x = 175 # State (9, B, B)\n",
    "a = rnd.randint(len(M[1]))\n",
    "\n",
    "x, a, cnew, xnew = sample_transition(M, x, a)\n",
    "\n",
    "print('Observed transition:\\n(', end='')\n",
    "print(M[0][x], end=', ')\n",
    "print(M[1][a], end=', ')\n",
    "print(cnew, end=', ')\n",
    "print(M[0][xnew], end=')\\n')\n",
    "\n",
    "# Select random state and action\n",
    "x = 187 # State (10, G, B)\n",
    "a = rnd.randint(len(M[1]))\n",
    "\n",
    "x, a, cnew, xnew = sample_transition(M, x, a)\n",
    "\n",
    "print('\\nObserved transition:\\n(', end='')\n",
    "print(M[0][x], end=', ')\n",
    "print(M[1][a], end=', ')\n",
    "print(cnew, end=', ')\n",
    "print(M[0][xnew], end=')\\n')\n",
    "\n",
    "# Select random state and action\n",
    "x = 69 # State (4, Y, G)\n",
    "a = rnd.randint(len(M[1]))\n",
    "\n",
    "x, a, cnew, xnew = sample_transition(M, x, a)\n",
    "\n",
    "print('\\nObserved transition:\\n(', end='')\n",
    "print(M[0][x], end=', ')\n",
    "print(M[1][a], end=', ')\n",
    "print(cnew, end=', ')\n",
    "print(M[0][xnew], end=')\\n')\n",
    "```\n",
    "\n",
    "and get, as output:\n",
    "\n",
    "```\n",
    "Observed transition:\n",
    "((9, B, B), West, 0.7, (8, B, B))\n",
    "\n",
    "Observed transition:\n",
    "((10, G, B), East, 0.7, (10, G, B))\n",
    "\n",
    "Observed transition:\n",
    "((4, Y, G), Pickup, 1.0, (4, Y, G))\n",
    "```\n",
    "\n",
    "**Note:** For debug purposes, we also provide a second file, `taxi-small.npz`, that contains a 9-state MDP that you can use to verify if your results make sense."
   ]
  },
  {
   "cell_type": "markdown",
   "metadata": {
    "raw_mimetype": "text/latex"
   },
   "source": [
    "---\n",
    "\n",
    "#### Activity 2.        \n",
    "\n",
    "Write down a function named `egreedy` that implements an $\\epsilon$-greedy policy. Your function should receive, as input, a `numpy` array `Q` with shape `(N,)`, for some integer `N`, and, as an optional argument, a floating point number `eps` with a default value `eps=0.1`. Your function should return... \n",
    "\n",
    "* ... with a probability $\\epsilon$, a random index between $0$ and $N-1$.\n",
    "* ... with a probability $1-\\epsilon$, the index between $0$ and $N-1$ corresponding to the minimum value of `Q`. If more than one such index exists, the function should select among such indices **uniformly at random**.\n",
    "\n",
    "**Note:** In the upcoming activities, the array `Q` received by the function `egreedy` will correspond to a row of a $Q$-function, and `N` will correspond to the number of actions."
   ]
  },
  {
   "cell_type": "code",
   "execution_count": 44,
   "metadata": {
    "ExecuteTime": {
     "end_time": "2019-12-09T09:18:48.301639Z",
     "start_time": "2019-12-09T09:18:48.296224Z"
    }
   },
   "outputs": [
    {
     "name": "stdout",
     "output_type": "stream",
     "text": [
      "State: (9, B, B) - action (eps=0.0): South\n",
      "State: (9, B, B) - action (eps=0.5): South\n",
      "State: (9, B, B) - action (eps=1.0): East\n",
      "\n",
      "State: (10, G, B) - action (eps=0.0): North\n",
      "State: (10, G, B) - action (eps=0.5): East\n",
      "State: (10, G, B) - action (eps=1.0): North\n",
      "\n",
      "State: (4, Y, G) - action (eps=0.0): West\n",
      "State: (4, Y, G) - action (eps=0.5): West\n",
      "State: (4, Y, G) - action (eps=1.0): West\n"
     ]
    }
   ],
   "source": [
    "def egreedy(Q, eps=0.1):\n",
    "    if np.random.rand() <= eps:\n",
    "        return np.random.choice(len(Q))\n",
    "    else:\n",
    "        policy = np.isclose(Q, np.min(Q)).astype(int)\n",
    "        probs = policy / np.sum(policy)\n",
    "        return np.random.choice(np.arange(len(Q)), p=probs)\n",
    "    \n",
    "rnd.seed(42)\n",
    "\n",
    "x = 175 # State (9, B, B)\n",
    "a = egreedy(Qopt[x, :], eps=0)\n",
    "print('State:', M[0][x], '- action (eps=0.0):', M[1][a])\n",
    "a = egreedy(Qopt[x, :], eps=0.5)\n",
    "print('State:', M[0][x], '- action (eps=0.5):', M[1][a])\n",
    "a = egreedy(Qopt[x, :], eps=1.0)\n",
    "print('State:', M[0][x], '- action (eps=1.0):', M[1][a])\n",
    "\n",
    "x = 187 # State (10, G, B)\n",
    "a = egreedy(Qopt[x, :], eps=0)\n",
    "print('\\nState:', M[0][x], '- action (eps=0.0):', M[1][a])\n",
    "a = egreedy(Qopt[x, :], eps=0.5)\n",
    "print('State:', M[0][x], '- action (eps=0.5):', M[1][a])\n",
    "a = egreedy(Qopt[x, :], eps=1.0)\n",
    "print('State:', M[0][x], '- action (eps=1.0):', M[1][a])\n",
    "\n",
    "x = 69 # State (4, Y, G)\n",
    "a = egreedy(Qopt[x, :], eps=0)\n",
    "print('\\nState:', M[0][x], '- action (eps=0.0):', M[1][a])\n",
    "a = egreedy(Qopt[x, :], eps=0.5)\n",
    "print('State:', M[0][x], '- action (eps=0.5):', M[1][a])\n",
    "a = egreedy(Qopt[x, :], eps=1.0)\n",
    "print('State:', M[0][x], '- action (eps=1.0):', M[1][a])"
   ]
  },
  {
   "cell_type": "markdown",
   "metadata": {},
   "source": [
    "For example, using the function `Qopt` loaded from the taxi file, you can run:\n",
    "\n",
    "```python\n",
    "rnd.seed(42)\n",
    "\n",
    "x = 175 # State (9, B, B)\n",
    "a = egreedy(Qopt[x, :], eps=0)\n",
    "print('State:', M[0][x], '- action (eps=0.0):', M[1][a])\n",
    "a = egreedy(Qopt[x, :], eps=0.5)\n",
    "print('State:', M[0][x], '- action (eps=0.5):', M[1][a])\n",
    "a = egreedy(Qopt[x, :], eps=1.0)\n",
    "print('State:', M[0][x], '- action (eps=1.0):', M[1][a])\n",
    "\n",
    "x = 187 # State (10, G, B)\n",
    "a = egreedy(Qopt[x, :], eps=0)\n",
    "print('\\nState:', M[0][x], '- action (eps=0.0):', M[1][a])\n",
    "a = egreedy(Qopt[x, :], eps=0.5)\n",
    "print('State:', M[0][x], '- action (eps=0.5):', M[1][a])\n",
    "a = egreedy(Qopt[x, :], eps=1.0)\n",
    "print('State:', M[0][x], '- action (eps=1.0):', M[1][a])\n",
    "\n",
    "x = 69 # State (4, Y, G)\n",
    "a = egreedy(Qopt[x, :], eps=0)\n",
    "print('\\nState:', M[0][x], '- action (eps=0.0):', M[1][a])\n",
    "a = egreedy(Qopt[x, :], eps=0.5)\n",
    "print('State:', M[0][x], '- action (eps=0.5):', M[1][a])\n",
    "a = egreedy(Qopt[x, :], eps=1.0)\n",
    "print('State:', M[0][x], '- action (eps=1.0):', M[1][a])\n",
    "```\n",
    "\n",
    "and you will get the output:\n",
    "\n",
    "```\n",
    "State: (9, B, B) - action (eps=0.0): South\n",
    "State: (9, B, B) - action (eps=0.5): South\n",
    "State: (9, B, B) - action (eps=1.0): East\n",
    "\n",
    "State: (10, G, B) - action (eps=0.0): North\n",
    "State: (10, G, B) - action (eps=0.5): East\n",
    "State: (10, G, B) - action (eps=1.0): North\n",
    "\n",
    "State: (4, Y, G) - action (eps=0.0): West\n",
    "State: (4, Y, G) - action (eps=0.5): West\n",
    "State: (4, Y, G) - action (eps=1.0): West\n",
    "```\n",
    "\n",
    "**Note that, depending on the order and number of calls to functions in the random library you may get slightly different results.**"
   ]
  },
  {
   "cell_type": "markdown",
   "metadata": {},
   "source": [
    "---\n",
    "\n",
    "#### Activity 3. \n",
    "\n",
    "Write a function `mb_learning` that implements the model-based reinforcement learning algorithm discussed in class. Your function should receive as input arguments \n",
    "\n",
    "* A tuple, `mdp`, containing the description of an **arbitrary** MDP. The structure of the tuple is similar to that provided in the example above. \n",
    "* An integer, `n`, corresponding the number of steps that your algorithm should run.\n",
    "*  A numpy array `qinit` with as many rows as the number of states in `mdp` and as many columns as the number of actions in `mdp`. The matrix `qinit` should be used to initialize the $Q$-function being learned by your function.\n",
    "* A tuple, `Pinit`, with as many elements as the number of actions in `mdp`. Each element of `Pinit` corresponds to square numpy arrays with as many rows/columns as the number of states in `mdp` and can be **any** transition probability matrix. The matrices in `Pinit` should be used to initialize the transition probability matrices of the model being learned by your function.\n",
    "* A numpy array `cinit` with as many rows as the number of states in `mdp` and as many columns as the number of actions in `mdp`. The matrix `cinit` should be used to initialize the cost function of the model being learned by your function.\n",
    "\n",
    "Your function should simulate an interaction of `n` steps between the agent and the environment, starting from an arbitrary state chosen uniformly at random, and during which it should perform `n` iterations of the model-based RL algorithm seen in class. In particular, it should learn the transition probabilities and cost function from the interaction between the agent and the environment, and use these to compute the optimal $Q$-function. The transition probabilities, cost and $Q$-functions to be learned should be initialized using `Pinit`, `cinit` and `qinit`, respectively. \n",
    "\n",
    "Note that, at each step of the interaction,\n",
    "\n",
    "* The agent should observe the current state, and select an action using an $\\epsilon$-greedy policy with respect to its current estimate of the optimal $Q$-values. You should use the function `egreedy` from Activity 2, with $\\epsilon=0.15$. \n",
    "* Given the state and action, you must then compute the cost and generate the next state, using `mdp` and the function `sample_transition` from Activity 1.\n",
    "* With this transition information (state, action, cost, next-state), you can now perform an update to the transition probabilities, cost function, and $Q$-function.\n",
    "* When updating the components $(x,a)$ of the model, use the step-size\n",
    "\n",
    "$$\\alpha_t=\\frac{1}{N_t(x,a)+1},$$\n",
    "\n",
    "where $N_t(x,a)$ is the number of visits to the pair $(x,a)$ up to time step $t$.\n",
    "\n",
    "Your function should return a tuple containing:\n",
    "\n",
    "*  A numpy array with as many rows as the number of states in `mdp` and as many columns as the number of actions in `mdp`, corresponding to the learned $Q$-function.\n",
    "* A tuple with as many elements as the number of actions in `mdp`. The element $a$ of the tuple corresponds to a square numpy array with as many rows/columns as the number of states in `mdp`, corresponding to the learned transition probabilities for action $a$.\n",
    "* A numpy array with as many rows as the number of states in `mdp` and as many columns as the number of actions in `mdp`, corresponding to the learned cost function.\n",
    "\n",
    "---"
   ]
  },
  {
   "cell_type": "code",
   "execution_count": 64,
   "metadata": {
    "ExecuteTime": {
     "end_time": "2019-12-09T09:18:48.330597Z",
     "start_time": "2019-12-09T09:18:48.322311Z"
    }
   },
   "outputs": [
    {
     "name": "stdout",
     "output_type": "stream",
     "text": [
      "Error in Q after 1000 steps: 388.82494261631126\n",
      "Error in Q after 2000 steps: 388.822141859974\n"
     ]
    },
    {
     "name": "stderr",
     "output_type": "stream",
     "text": [
      "/tmp/ipykernel_3910/973685361.py:28: DeprecationWarning: Conversion of an array with ndim > 0 to a scalar is deprecated, and will error in future. Ensure you extract a single element from your array before performing this operation. (Deprecated NumPy 1.25.)\n",
      "  Q[x, a] = C[x, a] + gamma * (P[a][x, :] @ np.min(Q, axis=1, keepdims=True))\n"
     ]
    }
   ],
   "source": [
    "def mb_learning(mdp, n, qinit, pinit, cinit):\n",
    "    X = mdp[0]\n",
    "    A = mdp[1]\n",
    "    gamma = mdp[4]\n",
    "    \n",
    "    Q = qinit\n",
    "    P = pinit\n",
    "    C = cinit\n",
    "\n",
    "    x = np.random.choice(len(X))\n",
    "\n",
    "    N = np.zeros((len(X), len(A)))\n",
    "\n",
    "    for _ in range(n):\n",
    "        a = egreedy(Q[x, :], eps=0.15)\n",
    "        (_, _, cost, next_x) = sample_transition(mdp, x, a)\n",
    "\n",
    "        N[x, a] += 1\n",
    "        alpha = 1 / (N[x, a] + 1)\n",
    "\n",
    "        C[x, a] = C[x, a] + alpha * (cost - C[x, a])\n",
    "\n",
    "        II = np.zeros(len(X))\n",
    "        II[next_x] = 1\n",
    "\n",
    "        P[a][x, :] = P[a][x, :] + alpha * (II - P[a][x, :])\n",
    "\n",
    "        Q[x, a] = C[x, a] + gamma * (P[a][x, :] @ np.min(Q, axis=1, keepdims=True))\n",
    "\n",
    "        x = next_x\n",
    "\n",
    "    return (Q, P, C)\n",
    "\n",
    "rnd.seed(42)\n",
    "\n",
    "# Initialize transition probabilities\n",
    "pinit = ()\n",
    "\n",
    "for a in range(len(M[1])):\n",
    "    pinit += (np.eye(len(M[0])),)\n",
    "\n",
    "# Initialize cost function\n",
    "cinit = np.zeros((len(M[0]), len(M[1])))\n",
    "\n",
    "# Initialize Q-function\n",
    "qinit = np.zeros((len(M[0]), len(M[1])))\n",
    "\n",
    "# Run 1000 steps of model-based learning\n",
    "qnew, pnew, cnew = mb_learning(M, 1000, qinit, pinit, cinit)\n",
    "\n",
    "# Compare the learned Q with the optimal Q\n",
    "print('Error in Q after 1000 steps:', np.linalg.norm(qnew - Qopt))\n",
    "\n",
    "# Run 1000 additional steps of model-based learning\n",
    "qnew, pnew, cnew = mb_learning(M, 1000, qnew, pnew, cnew)\n",
    "\n",
    "# Compare once again the learned Q with the optimal Q\n",
    "print('Error in Q after 2000 steps:', np.linalg.norm(qnew - Qopt))"
   ]
  },
  {
   "cell_type": "markdown",
   "metadata": {
    "ExecuteTime": {
     "end_time": "2019-12-09T09:18:48.567188Z",
     "start_time": "2019-12-09T09:18:48.333226Z"
    },
    "scrolled": false
   },
   "source": [
    "As an example using the taxi MDP, we could run:\n",
    "\n",
    "```python\n",
    "rnd.seed(42)\n",
    "\n",
    "# Initialize transition probabilities\n",
    "pinit = ()\n",
    "\n",
    "for a in range(len(M[1])):\n",
    "    pinit += (np.eye(len(M[0])),)\n",
    "\n",
    "# Initialize cost function\n",
    "cinit = np.zeros((len(M[0]), len(M[1])))\n",
    "\n",
    "# Initialize Q-function\n",
    "qinit = np.zeros((len(M[0]), len(M[1])))\n",
    "\n",
    "# Run 1000 steps of model-based learning\n",
    "qnew, pnew, cnew = mb_learning(M, 1000, qinit, pinit, cinit)\n",
    "\n",
    "# Compare the learned Q with the optimal Q\n",
    "print('Error in Q after 1000 steps:', np.linalg.norm(qnew - Qopt))\n",
    "\n",
    "# Run 1000 additional steps of model-based learning\n",
    "qnew, pnew, cnew = mb_learning(M, 1000, qnew, pnew, cnew)\n",
    "\n",
    "# Compare once again the learned Q with the optimal Q\n",
    "print('Error in Q after 2000 steps:', np.linalg.norm(qnew - Qopt))\n",
    "```\n",
    "\n",
    "to get\n",
    "\n",
    "```\n",
    "Error in Q after 1000 steps: 388.8249426163114\n",
    "Error in Q after 2000 steps: 388.8221418599741\n",
    "```\n",
    "\n",
    "Note that, even if the seed is fixed, the numerical values may differ somewhat from those above."
   ]
  },
  {
   "cell_type": "markdown",
   "metadata": {},
   "source": [
    "### 3. Model-free learning\n",
    "\n",
    "You will now implement both $Q$-learning and SARSA."
   ]
  },
  {
   "cell_type": "markdown",
   "metadata": {},
   "source": [
    "---\n",
    "\n",
    "#### Activity 4. \n",
    "\n",
    "Write a function `qlearning` that implements the $Q$-learning algorithm discussed in class. Your function should receive as input arguments \n",
    "\n",
    "* A tuple, `mdp`, containing the description of an **arbitrary** MDP. The structure of the tuple is similar to that provided in the examples above. \n",
    "* An integer, `n`, corresponding he number of steps that your algorithm should run.\n",
    "*  A `numpy` array `qinit` with as many rows as the number of states in `mdp` and as many columns as the number of actions in `mdp`. The matrix `qinit` should be used to initialize the $Q$-function being learned by your function.\n",
    "\n",
    "Your function should simulate an interaction of `n` steps between the agent and the environment, starting from an arbitrary state chosen uniformly at random, and during which it should perform `n` iterations of the $Q$-learning algorithm seen in class. In particular, it should learn optimal $Q$-function. The $Q$-function to be learned should be initialized using `qinit`. \n",
    "\n",
    "Note that, at each step of the interaction,\n",
    "\n",
    "* The agent should observe the current state, and select an action using an $\\epsilon$-greedy policy with respect to its current estimate of the optimal $Q$-values. You should use the function `egreedy` from Activity 2, with $\\epsilon=0.15$. \n",
    "* Given the state and action, you must then compute the cost and generate the next state, using `mdp` and the function `sample_transition` from Activity 1.\n",
    "* With this transition information (state, action, cost, next-state), you can now perform an update to the $Q$-function.\n",
    "* When updating the components $(x,a)$ of the model, use the step-size $\\alpha=0.3$.\n",
    "\n",
    "Your function should return a `numpy` array with as many rows as the number of states in `mdp` and as many columns as the number of actions in `mdp`, corresponding to the learned $Q$-function.\n",
    "\n",
    "---"
   ]
  },
  {
   "cell_type": "code",
   "execution_count": 63,
   "metadata": {
    "ExecuteTime": {
     "end_time": "2019-12-09T09:18:48.576851Z",
     "start_time": "2019-12-09T09:18:48.571201Z"
    }
   },
   "outputs": [
    {
     "name": "stdout",
     "output_type": "stream",
     "text": [
      "Error in Q after 1000 steps: 389.7280126255696\n",
      "Error in Q after 2000 steps: 389.7261836534417\n"
     ]
    }
   ],
   "source": [
    "def qlearning(mdp, n, qinit):\n",
    "    Q = qinit\n",
    "    alpha = 0.3\n",
    "    gamma = mdp[4]\n",
    "    x = np.random.choice(len(mdp[0]))\n",
    "    for _ in range(n):\n",
    "        a = egreedy(Q[x, :], eps=0.15)\n",
    "        (_, _, c, x_line) = sample_transition(mdp, x, a)\n",
    "        Q[x, a] += alpha * (c + gamma * np.amin(Q[x_line, :]) - Q[x, a])\n",
    "        x = x_line\n",
    "    return Q\n",
    "\n",
    "rnd.seed(42)\n",
    "\n",
    "# Initialize Q-function\n",
    "qinit = np.zeros((len(M[0]), len(M[1])))\n",
    "\n",
    "# Run 1000 steps of model-based learning\n",
    "qnew = qlearning(M, 1000, qinit)\n",
    "\n",
    "# Compare the learned Q with the optimal Q\n",
    "print('Error in Q after 1000 steps:', np.linalg.norm(qnew - Qopt))\n",
    "\n",
    "# Run 1000 additional steps of model-based learning\n",
    "qnew = qlearning(M, 1000, qnew)\n",
    "\n",
    "# Compare once again the learned Q with the optimal Q\n",
    "print('Error in Q after 2000 steps:', np.linalg.norm(qnew - Qopt))"
   ]
  },
  {
   "cell_type": "markdown",
   "metadata": {
    "ExecuteTime": {
     "end_time": "2019-12-09T09:18:48.567188Z",
     "start_time": "2019-12-09T09:18:48.333226Z"
    },
    "scrolled": false
   },
   "source": [
    "As an example using the taxi MDP, we could run:\n",
    "\n",
    "```python\n",
    "rnd.seed(42)\n",
    "\n",
    "# Initialize Q-function\n",
    "qinit = np.zeros((len(M[0]), len(M[1])))\n",
    "\n",
    "# Run 1000 steps of model-based learning\n",
    "qnew = qlearning(M, 1000, qinit)\n",
    "\n",
    "# Compare the learned Q with the optimal Q\n",
    "print('Error in Q after 1000 steps:', np.linalg.norm(qnew - Qopt))\n",
    "\n",
    "# Run 1000 additional steps of model-based learning\n",
    "qnew = qlearning(M, 1000, qnew)\n",
    "\n",
    "# Compare once again the learned Q with the optimal Q\n",
    "print('Error in Q after 2000 steps:', np.linalg.norm(qnew - Qopt))\n",
    "```\n",
    "\n",
    "to get\n",
    "\n",
    "```\n",
    "Error in Q after 1000 steps: 389.72801262556976\n",
    "Error in Q after 2000 steps: 389.7261836534418\n",
    "```\n",
    "\n",
    "Once again, even if the seed is fixed, the numerical values may differ somewhat from those above."
   ]
  },
  {
   "cell_type": "markdown",
   "metadata": {},
   "source": [
    "---\n",
    "\n",
    "#### Activity 5. \n",
    "\n",
    "Write a function `sarsa` that implements the SARSA algorithm discussed in class. Your function should receive as input arguments \n",
    "\n",
    "* A tuple, `mdp`, containing the description of an **arbitrary** MDP. The structure of the tuple is similar to that provided in the examples above. \n",
    "* An integer, `n`, corresponding he number of steps that your algorithm should run.\n",
    "*  A `numpy` array `qinit` with as many rows as the number of states in `mdp` and as many columns as the number of actions in `mdp`. The matrix `qinit` should be used to initialize the $Q$-function being learned by your function.\n",
    "\n",
    "Your function should simulate an interaction of `n` steps between the agent and the environment, starting from an arbitrary state chosen uniformly at random, and during which it should perform `n` iterations of the SARSA algorithm seen in class. The $Q$-function to be learned should be initialized using `qinit`. \n",
    "\n",
    "Note that, at each step of the interaction,\n",
    "\n",
    "* The agent should observe the current state, and select an action using an $\\epsilon$-greedy policy with respect to its current estimate of the optimal $Q$-values. You should use the function `egreedy` from Activity 2, with $\\epsilon=0.15$. **Do not adjust the value of $\\epsilon$ during learning.**\n",
    "* Given the state and action, you must then compute the cost and generate the next state, using `mdp` and the function `sample_transition` from Activity 1.\n",
    "* With this transition information (state, action, cost, next-state), you can now perform an update to the $Q$-function.\n",
    "* When updating the components $(x,a)$ of the model, use the step-size $\\alpha=0.3$.\n",
    "\n",
    "Your function should return a `numpy` array with as many rows as the number of states in `mdp` and as many columns as the number of actions in `mdp`, corresponding to the learned $Q$-function.\n",
    "\n",
    "---"
   ]
  },
  {
   "cell_type": "code",
   "execution_count": 62,
   "metadata": {
    "ExecuteTime": {
     "end_time": "2019-12-09T09:18:48.771464Z",
     "start_time": "2019-12-09T09:18:48.766170Z"
    }
   },
   "outputs": [
    {
     "name": "stdout",
     "output_type": "stream",
     "text": [
      "Error in Q after 1000 steps: 388.4498673509886\n",
      "Error in Q after 2000 steps: 387.75181889394764\n"
     ]
    }
   ],
   "source": [
    "def sarsa(mdp, n, qinit):\n",
    "    Q = qinit\n",
    "    alpha = 0.3\n",
    "    gamma = mdp[4]\n",
    "\n",
    "    x = np.random.choice(len(mdp[0]))\n",
    "    a = egreedy(Q[x, :], eps=0.15)\n",
    "\n",
    "    for _ in range(n):\n",
    "        (_, _, c, next_x) = sample_transition(mdp, x, a)\n",
    "        next_a = egreedy(Q[next_x, :], eps=0.15)\n",
    "        \n",
    "        Q[x, a] += alpha * (c + gamma * Q[next_x, next_a] - Q[x, a])\n",
    "        \n",
    "        x = next_x\n",
    "        a = next_a\n",
    "\n",
    "    return Q\n",
    "\n",
    "rnd.seed(42)\n",
    "\n",
    "# Initialize Q-function\n",
    "qinit = np.zeros((len(M[0]), len(M[1])))\n",
    "\n",
    "# Run 1000 steps of model-based learning\n",
    "qnew = sarsa(M, 1000, qinit)\n",
    "\n",
    "# Compare the learned Q with the optimal Q\n",
    "print('Error in Q after 1000 steps:', np.linalg.norm(qnew - Qopt))\n",
    "\n",
    "# Run 1000 additional steps of model-based learning\n",
    "qnew = sarsa(M, 1000, qnew)\n",
    "\n",
    "# Compare once again the learned Q with the optimal Q\n",
    "print('Error in Q after 2000 steps:', np.linalg.norm(qnew - Qopt))\n"
   ]
  },
  {
   "cell_type": "markdown",
   "metadata": {
    "ExecuteTime": {
     "end_time": "2019-12-09T09:18:48.567188Z",
     "start_time": "2019-12-09T09:18:48.333226Z"
    },
    "scrolled": false
   },
   "source": [
    "As an example using the taxi MDP, we could run:\n",
    "\n",
    "```python\n",
    "rnd.seed(42)\n",
    "\n",
    "# Initialize Q-function\n",
    "qinit = np.zeros((len(M[0]), len(M[1])))\n",
    "\n",
    "# Run 1000 steps of model-based learning\n",
    "qnew = sarsa(M, 1000, qinit)\n",
    "\n",
    "# Compare the learned Q with the optimal Q\n",
    "print('Error in Q after 1000 steps:', np.linalg.norm(qnew - Qopt))\n",
    "\n",
    "# Run 1000 additional steps of model-based learning\n",
    "qnew = sarsa(M, 1000, qnew)\n",
    "\n",
    "# Compare once again the learned Q with the optimal Q\n",
    "print('Error in Q after 2000 steps:', np.linalg.norm(qnew - Qopt))\n",
    "```\n",
    "\n",
    "to get\n",
    "\n",
    "```\n",
    "Error in Q after 1000 steps: 388.44986735098877\n",
    "Error in Q after 2000 steps: 387.75181889394776\n",
    "```"
   ]
  },
  {
   "cell_type": "code",
   "execution_count": 65,
   "metadata": {
    "ExecuteTime": {
     "end_time": "2019-12-09T09:19:53.521353Z",
     "start_time": "2019-12-09T09:18:48.932380Z"
    },
    "scrolled": false
   },
   "outputs": [
    {
     "name": "stdout",
     "output_type": "stream",
     "text": [
      "\n",
      " = Training (run n. 0) =\n"
     ]
    },
    {
     "name": "stderr",
     "output_type": "stream",
     "text": [
      "  0%|          | 0/10000 [00:00<?, ?it/s]"
     ]
    },
    {
     "name": "stderr",
     "output_type": "stream",
     "text": [
      "/tmp/ipykernel_3910/973685361.py:28: DeprecationWarning: Conversion of an array with ndim > 0 to a scalar is deprecated, and will error in future. Ensure you extract a single element from your array before performing this operation. (Deprecated NumPy 1.25.)\n",
      "  Q[x, a] = C[x, a] + gamma * (P[a][x, :] @ np.min(Q, axis=1, keepdims=True))\n",
      "100%|██████████| 10000/10000 [03:02<00:00, 54.66it/s]\n"
     ]
    },
    {
     "name": "stdout",
     "output_type": "stream",
     "text": [
      "\n",
      " = Training (run n. 1) =\n"
     ]
    },
    {
     "name": "stderr",
     "output_type": "stream",
     "text": [
      "100%|██████████| 10000/10000 [02:43<00:00, 61.11it/s]\n"
     ]
    },
    {
     "name": "stdout",
     "output_type": "stream",
     "text": [
      "\n",
      " = Training (run n. 2) =\n"
     ]
    },
    {
     "name": "stderr",
     "output_type": "stream",
     "text": [
      "100%|██████████| 10000/10000 [02:49<00:00, 59.07it/s]\n"
     ]
    },
    {
     "name": "stdout",
     "output_type": "stream",
     "text": [
      "\n",
      " = Training (run n. 3) =\n"
     ]
    },
    {
     "name": "stderr",
     "output_type": "stream",
     "text": [
      "100%|██████████| 10000/10000 [02:55<00:00, 56.98it/s]\n"
     ]
    },
    {
     "name": "stdout",
     "output_type": "stream",
     "text": [
      "\n",
      " = Training (run n. 4) =\n"
     ]
    },
    {
     "name": "stderr",
     "output_type": "stream",
     "text": [
      "100%|██████████| 10000/10000 [02:56<00:00, 56.67it/s]\n"
     ]
    },
    {
     "data": {
      "image/png": "[encoded data removed]",
      "text/plain": [
       "<Figure size 640x480 with 1 Axes>"
      ]
     },
     "metadata": {},
     "output_type": "display_data"
    }
   ],
   "source": [
    "%matplotlib inline\n",
    "\n",
    "import matplotlib.pyplot as plt\n",
    "from tqdm import trange\n",
    "\n",
    "STEPS = 100\n",
    "ITERS = 10000\n",
    "RUNS  = 5\n",
    "\n",
    "iters = range(0, STEPS * ITERS + 1, STEPS)\n",
    "\n",
    "# Error matrices\n",
    "Emb = np.zeros(ITERS + 1)\n",
    "Eql = np.zeros(ITERS + 1)\n",
    "Ess = np.zeros(ITERS + 1)\n",
    "\n",
    "Emb[0] = np.linalg.norm(Qopt) * RUNS\n",
    "Eql[0] = Emb[0]\n",
    "Ess[0] = Emb[0]\n",
    "\n",
    "rnd.seed(42)\n",
    "\n",
    "for n in range(RUNS):\n",
    "    \n",
    "    print('\\n = Training (run n. %i) =' % n)\n",
    "\n",
    "    # Initialization\n",
    "    pmb = ()\n",
    "    for a in range(len(M[1])):\n",
    "        pmb += (np.eye(len(M[0])),)\n",
    "    cmb = np.zeros((len(M[0]), len(M[1])))\n",
    "    qmb = np.zeros((len(M[0]), len(M[1])))\n",
    "\n",
    "    qql = np.zeros((len(M[0]), len(M[1])))\n",
    "\n",
    "    qss = np.zeros((len(M[0]), len(M[1])))\n",
    "\n",
    "    # Run evaluation\n",
    "    for t in trange(ITERS):\n",
    "        qmb, pmb, cmb = mb_learning(M, STEPS, qmb, pmb, cmb)\n",
    "        Emb[t + 1] += np.linalg.norm(Qopt - qmb)\n",
    "\n",
    "        qql = qlearning(M, STEPS, qql)\n",
    "        Eql[t + 1] += np.linalg.norm(Qopt - qql)\n",
    "\n",
    "        qss = sarsa(M, STEPS, qss)\n",
    "        Ess[t + 1] += np.linalg.norm(Qopt - qss)\n",
    "        \n",
    "Emb /= RUNS\n",
    "Eql /= RUNS\n",
    "Ess /= RUNS\n",
    "\n",
    "plt.figure()\n",
    "plt.plot(iters, Emb, label='Model based learning')\n",
    "plt.plot(iters, Eql, label='Q-learning')\n",
    "plt.plot(iters, Ess, label='SARSA')\n",
    "plt.legend()\n",
    "plt.xlabel('N. iterations')\n",
    "plt.ylabel('Error in $Q$-function')\n",
    "plt.tight_layout()"
   ]
  },
  {
   "cell_type": "markdown",
   "metadata": {},
   "source": [
    "You can also run the following code, to compare the performance of the three methods:\n",
    "\n",
    "```python\n",
    "%matplotlib inline\n",
    "\n",
    "import matplotlib.pyplot as plt\n",
    "from tqdm import trange\n",
    "\n",
    "STEPS = 100\n",
    "ITERS = 10000\n",
    "RUNS  = 5\n",
    "\n",
    "iters = range(0, STEPS * ITERS + 1, STEPS)\n",
    "\n",
    "# Error matrices\n",
    "Emb = np.zeros(ITERS + 1)\n",
    "Eql = np.zeros(ITERS + 1)\n",
    "Ess = np.zeros(ITERS + 1)\n",
    "\n",
    "Emb[0] = np.linalg.norm(Qopt) * RUNS\n",
    "Eql[0] = Emb[0]\n",
    "Ess[0] = Emb[0]\n",
    "\n",
    "rnd.seed(42)\n",
    "\n",
    "for n in range(RUNS):\n",
    "    \n",
    "    print('\\n = Training (run n. %i) =' % n)\n",
    "\n",
    "    # Initialization\n",
    "    pmb = ()\n",
    "    for a in range(len(M[1])):\n",
    "        pmb += (np.eye(len(M[0])),)\n",
    "    cmb = np.zeros((len(M[0]), len(M[1])))\n",
    "    qmb = np.zeros((len(M[0]), len(M[1])))\n",
    "\n",
    "    qql = np.zeros((len(M[0]), len(M[1])))\n",
    "\n",
    "    qss = np.zeros((len(M[0]), len(M[1])))\n",
    "\n",
    "    # Run evaluation\n",
    "    for t in trange(ITERS):\n",
    "        qmb, pmb, cmb = mb_learning(M, STEPS, qmb, pmb, cmb)\n",
    "        Emb[t + 1] += np.linalg.norm(Qopt - qmb)\n",
    "\n",
    "        qql = qlearning(M, STEPS, qql)\n",
    "        Eql[t + 1] += np.linalg.norm(Qopt - qql)\n",
    "\n",
    "        qss = sarsa(M, STEPS, qss)\n",
    "        Ess[t + 1] += np.linalg.norm(Qopt - qss)\n",
    "        \n",
    "Emb /= RUNS\n",
    "Eql /= RUNS\n",
    "Ess /= RUNS\n",
    "\n",
    "plt.figure()\n",
    "plt.plot(iters, Emb, label='Model based learning')\n",
    "plt.plot(iters, Eql, label='Q-learning')\n",
    "plt.plot(iters, Ess, label='SARSA')\n",
    "plt.legend()\n",
    "plt.xlabel('N. iterations')\n",
    "plt.ylabel('Error in $Q$-function')\n",
    "plt.tight_layout()\n",
    "```\n",
    "\n",
    "**Note:** The code above takes a while to conclude. If you want to observe faster results, you may try with a single run (set `RUNS = 1` above) or decrease the training time (changing `ITERS` above). However, the plot you will obtain will differ from the one provided.\n",
    "\n",
    "As the output, you should observe a plot similar to the one below.\n",
    "\n",
    "<img src=\"plot.png\" align=\"left\">"
   ]
  },
  {
   "cell_type": "markdown",
   "metadata": {},
   "source": [
    "---\n",
    "\n",
    "#### Activity 6.\n",
    "\n",
    "**Based on the results you obtained when running the above code with your algorithms**, discuss the differences observed between the performance of the three methods.\n",
    "\n",
    "---"
   ]
  },
  {
   "cell_type": "markdown",
   "metadata": {},
   "source": [
    "We can see that all algorithm plots reach an error close to 0, and thus learn the optimal policy.\n",
    "We also see that the model-based algorithm has the lowest error in the end. It updates the model directly, learning the probabilities and costs of the MDP. This leads to a more accurate Q-function, since it's the same method that is used to generate the optimal Q-function trough Value Iteration.\n",
    "We can also verify that Q-learning and SARSA have similar performance in the beginning. This is expected, as both are temporal diference algorithms.\n",
    "Also we can see that SARSA tends to increase in the end. This may happen since it's an on-policy algorithm, and the policy may not be optimal. This is not the case for Q-learning, which is an off-policy algorithm."
   ]
  }
 ],
 "metadata": {
  "celltoolbar": "Raw Cell Format",
  "kernelspec": {
   "display_name": "Python 3",
   "language": "python",
   "name": "python3"
  },
  "language_info": {
   "codemirror_mode": {
    "name": "ipython",
    "version": 3
   },
   "file_extension": ".py",
   "mimetype": "text/x-python",
   "name": "python",
   "nbconvert_exporter": "python",
   "pygments_lexer": "ipython3",
   "version": "3.8.10"
  },
  "latex_envs": {
   "LaTeX_envs_menu_present": true,
   "autoclose": false,
   "autocomplete": true,
   "bibliofile": "biblio.bib",
   "cite_by": "apalike",
   "current_citInitial": 1,
   "eqLabelWithNumbers": true,
   "eqNumInitial": 1,
   "hotkeys": {
    "equation": "Ctrl-E",
    "itemize": "Ctrl-I"
   },
   "labels_anchors": false,
   "latex_user_defs": false,
   "report_style_numbering": false,
   "user_envs_cfg": false
  }
 },
 "nbformat": 4,
 "nbformat_minor": 1
}
