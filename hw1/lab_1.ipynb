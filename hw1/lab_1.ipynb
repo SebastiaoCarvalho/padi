{
  "cells": [
    {
      "cell_type": "markdown",
      "metadata": {
        "id": "-I6f_1S1KvKc"
      },
      "source": [
        "# Learning and Decision Making"
      ]
    },
    {
      "cell_type": "markdown",
      "metadata": {
        "id": "CszjyfTXKvKg"
      },
      "source": [
        "## Laboratory 1: Markov chains\n",
        "\n",
        "In the end of the lab, you should export the notebook to a Python script (``File >> Download as >> Python (.py)``). Make sure that the resulting script includes all code written in the tasks marked as \"**Activity n. N**\", together with any replies to specific questions posed. Your file should be named `padi-labKK-groupXXX.py`, where `KK` corresponds to the lab number and the `XXX` corresponds to your group number. Similarly, your homework should consist of a single pdf file named `padi-hwKK-groupXXX.pdf`. You should create a zip file with the lab and homework files and submit it in Fenix **at most 30 minutes after your lab is over**.\n",
        "\n",
        "Make sure to strictly respect the specifications in each activity, in terms of the intended inputs, outputs and naming conventions.\n",
        "\n",
        "In particular, after completing the activities you should be able to replicate the examples provided (although this, in itself, is no guarantee that the activities are correctly completed)."
      ]
    },
    {
      "cell_type": "markdown",
      "metadata": {
        "id": "wmWr-et-KvKg"
      },
      "source": [
        "### 1. The Markov chain model\n",
        "\n",
        "Consider once again the document web problem described in the Homework and for which you wrote a Markov chain model. In this lab you will interact with a larger version of the same problem. You will use a Markov chain based on a provided web of documents and investigate the relation between the PageRank algorithm and the stable behavior of the chain.\n",
        "\n",
        "Recall that your chain should describe the motion of a bot navigating the provided document web, where, upon arriving at a document, the bot will select, uniformly at random, one of the links in that document and follow that link.\n",
        "\n",
        "In this first activity, you will implement your Markov chain model in Python. You will start by loading the transition probability matrix from a `numpy` binary file, using the `numpy` function `load`. You will then consider the state space to consist of all valid indices for the loaded transition matrix, each represented as a string. For example, if the transition probability matrix is $20\\times 20$, the states should include the strings `'0'` to `'19'`."
      ]
    },
    {
      "cell_type": "markdown",
      "metadata": {
        "id": "E_fcMZc2KvKh"
      },
      "source": [
        "---\n",
        "\n",
        "#### Activity 1.        \n",
        "\n",
        "Write a function named `load_chain` that receives, as input, a string corresponding to the name of the file with a transition matrix to be loaded, and a real number $\\gamma$ between $0$ and $1$. Assume that:\n",
        "\n",
        "* The transition matrix in the file has been built from some web of documents, where the appropriate transitions for sink nodes have already been added.\n",
        "\n",
        "* The \"teleporting\" artifact described in the course's lecture notes **has not** been added.\n",
        "\n",
        "Your function should build the transition probability matrix for the chain by adding the teleport mechanism, where the value of $\\gamma$ is the teleporting probability. Your function should then return, as output, a two-element tuple corresponding to the Markov chain, where:\n",
        "\n",
        "* ... the first element is a tuple containing an enumeration of the state-space (i.e., each element of the tuple corresponds to a state of the chain, represented as a string);\n",
        "* ... the second element is a `numpy` array corresponding to the transition probability matrix for the chain.\n",
        "\n",
        "---"
      ]
    },
    {
      "cell_type": "code",
      "execution_count": 2,
      "metadata": {
        "ExecuteTime": {
          "end_time": "2024-02-18T22:43:27.736736Z",
          "start_time": "2024-02-18T22:43:27.725153Z"
        },
        "id": "AkR-YOxuKvKh"
      },
      "outputs": [],
      "source": [
        "import numpy as np\n",
        "def load_chain(filename, gamma):\n",
        "    data = np.array(np.load(filename), dtype=np.float64)\n",
        "    states = ()\n",
        "    for i in range(data.shape[0]):\n",
        "        states += (str(i),)\n",
        "        norm = 1 - gamma\n",
        "        data[i] = data[i] * norm\n",
        "        data[i] += gamma/data[i].shape[0]\n",
        "    return (states, data)\n",
        "\n",
        "    "
      ]
    },
    {
      "cell_type": "markdown",
      "metadata": {
        "id": "ip2E1LapKvKi"
      },
      "source": [
        "We provide below an example of application of the function with the files `example.npy` and `citations.npy`, provided in the course's webpage, that you can use as a first \"sanity check\" for your code. Note, however, that the fact that you can replicate the examples below is not indicative that your code is correct. Moreover, your code will be tested with networks of different sizes, so **make sure not to hard-code the size of the environments into your code**.\n",
        "\n",
        "The file `example.npy` corresponds to the web of documents in the PageRank example from class. According to the previous specification, the transition probabilities for sink nodes have been corrected but no teleporting probabilities have been added. The file `citations.npy` corresponds to a web of connected PhD students, where there is a link between student $x$ and $y$ if the two have collaborated in a paper.\n",
        "\n",
        "```python\n",
        "print('- Small chain -')\n",
        "\n",
        "Msmall = load_chain('example.npy', 0.11)\n",
        "print('Number of states:', len(Msmall[0]))\n",
        "print('Transition probabilities:')\n",
        "print(Msmall[1])\n",
        "\n",
        "import numpy.random as rand\n",
        "\n",
        "rand.seed(42)\n",
        "\n",
        "print('\\n- Large chain -')\n",
        "\n",
        "Mlarge = load_chain('citations.npy', 0.11)\n",
        "print('Number of states:', len(Mlarge[0]))\n",
        "x = rand.randint(len(Mlarge[0]))\n",
        "print('Random state:', Mlarge[0][x])\n",
        "print('Transition probabilities in random state:')\n",
        "print(Mlarge[1][x, :])\n",
        "```\n",
        "\n",
        "Output:\n",
        "```\n",
        "- Small chain -\n",
        "Number of states: 11\n",
        "Transition probabilities:\n",
        "[[0.01  0.9   0.01  0.01  0.01  0.01  0.01  0.01  0.01  0.01  0.01 ]\n",
        " [0.01  0.01  0.455 0.455 0.01  0.01  0.01  0.01  0.01  0.01  0.01 ]\n",
        " [0.01  0.455 0.01  0.01  0.01  0.01  0.01  0.455 0.01  0.01  0.01 ]\n",
        " [0.01  0.01  0.01  0.01  0.455 0.01  0.01  0.01  0.455 0.01  0.01 ]\n",
        " [0.01  0.01  0.01  0.01  0.01  0.9   0.01  0.01  0.01  0.01  0.01 ]\n",
        " [0.01  0.01  0.01  0.01  0.01  0.01  0.9   0.01  0.01  0.01  0.01 ]\n",
        " [0.01  0.01  0.01  0.01  0.455 0.455 0.01  0.01  0.01  0.01  0.01 ]\n",
        " [0.099 0.099 0.099 0.099 0.099 0.099 0.099 0.01  0.099 0.099 0.099]\n",
        " [0.01  0.01  0.01  0.01  0.01  0.01  0.01  0.01  0.01  0.9   0.01 ]\n",
        " [0.01  0.01  0.01  0.01  0.01  0.01  0.01  0.01  0.9   0.01  0.01 ]\n",
        " [0.01  0.01  0.01  0.01  0.01  0.01  0.9   0.01  0.01  0.01  0.01 ]]\n",
        "\n",
        "- Large chain -\n",
        "Number of states: 1883\n",
        "Random state: 1126\n",
        "Transition probabilities in random state:\n",
        "[5.8417419e-05 5.8417419e-05 5.8417419e-05 ... 5.8417419e-05 5.8417419e-05\n",
        " 5.8417419e-05]\n",
        "```\n",
        "\n",
        "We also provide an additional file, `deterministic.npy`, corresponding to a chain with only 3 nodes, that you can use for debugging purposes."
      ]
    },
    {
      "cell_type": "markdown",
      "metadata": {
        "id": "M5dcTfFlKvKj"
      },
      "source": [
        "In the next activity, you will use the Markov chain model to evaluate the likelihood of any given path for the bot.\n",
        "\n",
        "---\n",
        "\n",
        "#### Activity 2.\n",
        "\n",
        "Write a function `prob_trajectory` that receives, as inputs,\n",
        "\n",
        "* ... a Markov chain in the form of a tuple like the one returned by the function in Activity 1;\n",
        "* ... a trajectory, corresponding to a sequence of states (i.e., a tuple or list of strings, each string corresponding to a state).\n",
        "\n",
        "Your function should return, as output, a floating point number corresponding to the probability of observing the provided trajectory, taking the first state in the trajectory as initial state.  \n",
        "\n",
        "---"
      ]
    },
    {
      "cell_type": "code",
      "execution_count": 4,
      "metadata": {
        "ExecuteTime": {
          "end_time": "2024-02-18T22:42:21.022807Z",
          "start_time": "2024-02-18T22:42:21.013678Z"
        },
        "id": "LyfHiyMIKvKj"
      },
      "outputs": [
        {
          "name": "stdout",
          "output_type": "stream",
          "text": [
            "- Chain from \"example.npy\" -\n",
            "Prob. of trajectory 1-3-8: 0.20702500000000001\n",
            "Prob. of trajectory 2-7-0-1-3: 0.0184459275\n",
            "Prob. of trajectory 1-2-1: 0.20702500000000001\n",
            "Prob. of trajectory 1-3-1: 0.00455\n",
            "\n",
            "- Chain from \"citations.npy\" -\n",
            "Prob. of trajectory 1-3-8: 3.4125948440486464e-09\n",
            "Prob. of trajectory 2-7-0-1-3: 1.0592100803408243e-16\n",
            "Prob. of trajectory 1-2-1: 0.19808999279124595\n",
            "Prob. of trajectory 1-3-1: 3.4125948440486464e-09\n"
          ]
        }
      ],
      "source": [
        "def prob_trajectory(mc, trajectory):\n",
        "    prob = 1\n",
        "    for i in range(len(trajectory)-1):\n",
        "        prob *= mc[1][int(trajectory[i]), int(trajectory[i+1])]\n",
        "\n",
        "    return prob\n",
        "\n",
        "Msmall = load_chain('example.npy', 0.11)\n",
        "Mlarge = load_chain('citations.npy', 0.11)\n",
        "\n",
        "print('- Chain from \"example.npy\" -')\n",
        "print(\"Prob. of trajectory 1-3-8:\", prob_trajectory(Msmall, ('1', '3', '8')))\n",
        "print(\"Prob. of trajectory 2-7-0-1-3:\", prob_trajectory(Msmall, ('2', '7', '0', '1', '3')))\n",
        "print(\"Prob. of trajectory 1-2-1:\", prob_trajectory(Msmall, ('1', '2', '1')))\n",
        "print(\"Prob. of trajectory 1-3-1:\", prob_trajectory(Msmall, ('1', '3', '1')))\n",
        "\n",
        "print('\\n- Chain from \"citations.npy\" -')\n",
        "\n",
        "print(\"Prob. of trajectory 1-3-8:\", prob_trajectory(Mlarge, ('1', '3', '8')))\n",
        "print(\"Prob. of trajectory 2-7-0-1-3:\", prob_trajectory(Mlarge, ('2', '7', '0', '1', '3')))\n",
        "print(\"Prob. of trajectory 1-2-1:\", prob_trajectory(Mlarge, ('1', '2', '1')))\n",
        "print(\"Prob. of trajectory 1-3-1:\", prob_trajectory(Mlarge, ('1', '3', '1')))"
      ]
    },
    {
      "cell_type": "markdown",
      "metadata": {
        "id": "uo3eLZHoKvKj"
      },
      "source": [
        "Example of application of the function with the chain $M$ from Activity 1 (PageRank example in class).\n",
        "\n",
        "```python\n",
        "print('- Chain from \"example.npy\" -')\n",
        "print(\"Prob. of trajectory 1-3-8:\", prob_trajectory(Msmall, ('1', '3', '8')))\n",
        "print(\"Prob. of trajectory 2-7-0-1-3:\", prob_trajectory(Msmall, ('2', '7', '0', '1', '3')))\n",
        "print(\"Prob. of trajectory 1-2-1:\", prob_trajectory(Msmall, ('1', '2', '1')))\n",
        "print(\"Prob. of trajectory 1-3-1:\", prob_trajectory(Msmall, ('1', '3', '1')))\n",
        "\n",
        "print('\\n- Chain from \"citations.npy\" -')\n",
        "\n",
        "print(\"Prob. of trajectory 1-3-8:\", prob_trajectory(Mlarge, ('1', '3', '8')))\n",
        "print(\"Prob. of trajectory 2-7-0-1-3:\", prob_trajectory(Mlarge, ('2', '7', '0', '1', '3')))\n",
        "print(\"Prob. of trajectory 1-2-1:\", prob_trajectory(Mlarge, ('1', '2', '1')))\n",
        "print(\"Prob. of trajectory 1-3-1:\", prob_trajectory(Mlarge, ('1', '3', '1')))\n",
        "```\n",
        "\n",
        "Output:\n",
        "```\n",
        "- Chain from \"example.npy\" -\n",
        "Prob. of trajectory 1-3-8: 0.20702500000000001\n",
        "Prob. of trajectory 2-7-0-1-3: 0.0184459275\n",
        "Prob. of trajectory 1-2-1: 0.20702500000000001\n",
        "Prob. of trajectory 1-3-1: 0.00455\n",
        "\n",
        "- Chain from \"citations.npy\" -\n",
        "Prob. of trajectory 1-3-8: 3.4125948440486464e-09\n",
        "Prob. of trajectory 2-7-0-1-3: 1.0592100803408243e-16\n",
        "Prob. of trajectory 1-2-1: 0.19808999279124595\n",
        "Prob. of trajectory 1-3-1: 3.4125948440486464e-09\n",
        "```\n",
        "\n",
        "Note that your function should work with **any** Markov chain that is specified as a tuple like the one from Activity 1."
      ]
    },
    {
      "cell_type": "markdown",
      "metadata": {
        "id": "XEym2d5eKvKk"
      },
      "source": [
        "### 2. Stability"
      ]
    },
    {
      "cell_type": "markdown",
      "metadata": {
        "id": "PJISSD9BKvKk"
      },
      "source": [
        "The next activities explore the notion of *stationary distribution* for the chain, a central concept in the PageRank algorithm.\n",
        "\n",
        "---\n",
        "\n",
        "#### Activity 3\n",
        "\n",
        "Write a function `stationary_dist` that receives, as input, a Markov chain in the form of a tuple like the one returned by the function in Activity 1. Your function should return, as output, a `numpy` array corresponding to a row vector containing the stationary distribution for the chain.\n",
        "\n",
        "**Note:** The stationary distribution is a *left* eigenvector of the transition probability matrix associated to the eigenvalue 1. As such, you may find useful the numpy function `numpy.linalg.eig`. Also, recall that the stationary distribution is *a distribution*. You may also find useful the function `numpy.real` which returns the real part of a complex number.\n",
        "\n",
        "---"
      ]
    },
    {
      "cell_type": "code",
      "execution_count": 25,
      "metadata": {
        "ExecuteTime": {
          "end_time": "2024-02-18T22:45:57.394512Z",
          "start_time": "2024-02-18T22:45:57.355467Z"
        },
        "id": "SyhMKQTCKvKk"
      },
      "outputs": [],
      "source": [
        "import numpy as np\n",
        "\n",
        "def stationary_dist(mc):\n",
        "    eigenvalues, eigenvectors = np.linalg.eig(mc[1].T)\n",
        "    for i in range(len(eigenvalues)):\n",
        "        if np.isclose(eigenvalues[i], 1.0):\n",
        "            return np.real(eigenvectors[:, i].T/np.sum(eigenvectors[:, i].T))\n",
        "\n"
      ]
    },
    {
      "cell_type": "markdown",
      "metadata": {
        "id": "7pvwxiRoKvKk"
      },
      "source": [
        "Example of application of the function with the chain $M$ from Activity 1.\n",
        "\n",
        "```python\n",
        "print('- Chain from \"example.npy\" -')\n",
        "u_star = stationary_dist(Msmall)\n",
        "\n",
        "print('Stationary distribution:')\n",
        "print(np.round(u_star, 2))\n",
        "\n",
        "u_prime = u_star.dot(Msmall[1])\n",
        "\n",
        "print('\\nIs u* * P = u*?', np.all(np.isclose(u_prime, u_star)))\n",
        "\n",
        "print('\\n- Chain from \"citations.npy\" -')\n",
        "u_star = stationary_dist(Mlarge)\n",
        "\n",
        "print('Is this a distribution?', np.isclose(np.sum(u_star), 1))\n",
        "\n",
        "print('Most likely state:', Mlarge[0][np.argmax(u_star)])\n",
        "\n",
        "u_prime = u_star.dot(Mlarge[1])\n",
        "\n",
        "print('\\nIs u* * P = u*?', np.all(np.isclose(u_prime, u_star)))\n",
        "```\n",
        "\n",
        "Output:\n",
        "```\n",
        "- Chain from \"example.npy\" -\n",
        "Stationary distribution:\n",
        "[[0.01 0.03 0.03 0.03 0.12 0.21 0.21 0.02 0.17 0.16 0.01]]\n",
        "\n",
        "Is u* * P = u*? True\n",
        "\n",
        "- Chain from \"citations.npy\" -\n",
        "Is this a distribution? True\n",
        "Most likely state: 216\n",
        "\n",
        "Is u* * P = u*? True\n",
        "```"
      ]
    },
    {
      "cell_type": "markdown",
      "metadata": {
        "id": "2IlTQiyoKvKk"
      },
      "source": [
        "To complement Activity 3, you will now empirically establish that the chain is ergodic, i.e., no matter where the bot starts, its visitation frequency will eventually converge to the stationary distribution.\n",
        "\n",
        "---\n",
        "\n",
        "#### Activity 4.\n",
        "\n",
        "Write a function `compute_dist` that receives, as inputs,\n",
        "\n",
        "* ... a Markov chain in the form of a tuple like the one returned by the function in Activity 1;\n",
        "* ... a row vector (a numpy array) corresponding to the initial distribution for the chain;\n",
        "* ... an integer $N$, corresponding to the number of steps that the chain is expected to take.\n",
        "\n",
        "Your function should return, as output, a row vector (a `numpy` array) containing the distribution after $N$ steps of the chain. Use your function to justify that the chain is ergodic.\n",
        "\n",
        "---"
      ]
    },
    {
      "cell_type": "code",
      "execution_count": 28,
      "metadata": {
        "ExecuteTime": {
          "end_time": "2023-02-28T09:37:14.102782Z",
          "start_time": "2023-02-28T09:37:14.093953Z"
        },
        "id": "ADFEOsNeKvKl"
      },
      "outputs": [
        {
          "name": "stdout",
          "output_type": "stream",
          "text": [
            "- Chain from \"example.npy\" -\n",
            "\n",
            "- Repetition 1 of 5 -\n",
            "Is u * P^100 = u*? True\n",
            "Is u * P^2000 = u*? True\n",
            "\n",
            "- Repetition 2 of 5 -\n",
            "Is u * P^100 = u*? True\n",
            "Is u * P^2000 = u*? True\n",
            "\n",
            "- Repetition 3 of 5 -\n",
            "Is u * P^100 = u*? True\n",
            "Is u * P^2000 = u*? True\n",
            "\n",
            "- Repetition 4 of 5 -\n",
            "Is u * P^100 = u*? True\n",
            "Is u * P^2000 = u*? True\n",
            "\n",
            "- Repetition 5 of 5 -\n",
            "Is u * P^100 = u*? True\n",
            "Is u * P^2000 = u*? True\n"
          ]
        }
      ],
      "source": [
        "import numpy.random as rnd\n",
        "\n",
        "def compute_dist(M_Chain, mu_0, N):\n",
        "    return mu_0 @ np.linalg.matrix_power(M_Chain[1], N)"
      ]
    },
    {
      "cell_type": "markdown",
      "metadata": {
        "id": "GsspeQNMKvKl"
      },
      "source": [
        "<font color='blue'>Add your answer here.</font>"
      ]
    },
    {
      "cell_type": "markdown",
      "metadata": {
        "id": "k-onlBOJKvKl"
      },
      "source": [
        "Example of application of the function with the chain $M$ from Activity 1.\n",
        "\n",
        "```python\n",
        "import numpy.random as rnd\n",
        "\n",
        "rnd.seed(42)\n",
        "\n",
        "REPETITIONS = 5\n",
        "\n",
        "print('- Chain from \"example.npy\" -')\n",
        "\n",
        "# Number of states\n",
        "nS = len(Msmall[0])\n",
        "u_star = stationary_dist(Msmall)\n",
        "\n",
        "# Repeat a number of times\n",
        "for n in range(REPETITIONS):\n",
        "    \n",
        "    print('\\n- Repetition', n + 1, 'of', REPETITIONS, '-')\n",
        "    \n",
        "    # Initial random distribution\n",
        "    u = rnd.random((1, nS))\n",
        "    u = u / np.sum(u)\n",
        "\n",
        "    # Distrbution after 10 steps\n",
        "    v = compute_dist(Msmall, u, 10)\n",
        "    print('Is u * P^100 = u*?', np.all(np.isclose(v, u_star)))\n",
        "\n",
        "    # Distrbution after 100 steps\n",
        "    v = compute_dist(Msmall, u, 100)\n",
        "    print('Is u * P^2000 = u*?', np.all(np.isclose(v, u_star)))\n",
        "    \n",
        "print('\\n- Chain from \"citations.npy\" -')\n",
        "\n",
        "# Number of states\n",
        "nS = len(Mlarge[0])\n",
        "u_star = stationary_dist(Mlarge)\n",
        "\n",
        "# Repeat a number of times\n",
        "for n in range(REPETITIONS):\n",
        "    \n",
        "    print('\\n- Repetition', n + 1, 'of', REPETITIONS, '-')\n",
        "    \n",
        "    # Initial random distribution\n",
        "    u = rnd.random((1, nS))\n",
        "    u = u / np.sum(u)\n",
        "\n",
        "    # Distrbution after 100 steps\n",
        "    v = compute_dist(Mlarge, u, 100)\n",
        "    print('Is u * P^100 = u*?', np.all(np.isclose(v, u_star)))\n",
        "\n",
        "    # Distrbution after 2000 steps\n",
        "    v = compute_dist(Mlarge, u, 2000)\n",
        "    print('Is u * P^2000 = u*?', np.all(np.isclose(v, u_star)))\n",
        "```\n",
        "\n",
        "Output:\n",
        "````\n",
        "- Chain from \"example.npy\" -\n",
        "\n",
        "- Repetition 1 of 5 -\n",
        "Is u * P^100 = u*? False\n",
        "Is u * P^2000 = u*? True\n",
        "\n",
        "- Repetition 2 of 5 -\n",
        "Is u * P^100 = u*? False\n",
        "Is u * P^2000 = u*? True\n",
        "\n",
        "- Repetition 3 of 5 -\n",
        "Is u * P^100 = u*? False\n",
        "Is u * P^2000 = u*? True\n",
        "\n",
        "- Repetition 4 of 5 -\n",
        "Is u * P^100 = u*? False\n",
        "Is u * P^2000 = u*? True\n",
        "\n",
        "- Repetition 5 of 5 -\n",
        "Is u * P^100 = u*? False\n",
        "Is u * P^2000 = u*? True\n",
        "\n",
        "- Chain from \"citations.npy\" -\n",
        "\n",
        "- Repetition 1 of 5 -\n",
        "Is u * P^100 = u*? True\n",
        "Is u * P^2000 = u*? True\n",
        "\n",
        "- Repetition 2 of 5 -\n",
        "Is u * P^100 = u*? True\n",
        "Is u * P^2000 = u*? True\n",
        "\n",
        "- Repetition 3 of 5 -\n",
        "Is u * P^100 = u*? True\n",
        "Is u * P^2000 = u*? True\n",
        "\n",
        "- Repetition 4 of 5 -\n",
        "Is u * P^100 = u*? True\n",
        "Is u * P^2000 = u*? True\n",
        "\n",
        "- Repetition 5 of 5 -\n",
        "Is u * P^100 = u*? True\n",
        "Is u * P^2000 = u*? True\n",
        "```"
      ]
    },
    {
      "cell_type": "markdown",
      "metadata": {
        "id": "tZRKRcd0KvKl"
      },
      "source": [
        "### 3. Simulation\n",
        "\n",
        "In this part of the lab, you will *simulate* the actual bot, and empirically compute the visitation frequency of each state."
      ]
    },
    {
      "cell_type": "markdown",
      "metadata": {
        "id": "Lhfzjua8KvKl"
      },
      "source": [
        "---\n",
        "\n",
        "#### Activity 5\n",
        "\n",
        "Write down a function `simulate` that receives, as inputs,\n",
        "\n",
        "* ... a Markov chain in the form of a tuple like the one returned by the function in Activity 1;\n",
        "* ... a row vector (a `numpy` array) corresponding to the initial distribution for the chain;\n",
        "* ... an integer $N$, corresponding to the number of steps that the chain is expected to take.\n",
        "\n",
        "Your function should return, as output, a tuple containing a trajectory with $N$ states, where the initial state is sampled according to the initial distribution provided. Each element in the tuple should be a string corresponding to a state index.\n",
        "\n",
        "---\n",
        "\n",
        "**Note:** You may find useful to import the numpy module `numpy.random`."
      ]
    },
    {
      "cell_type": "code",
      "execution_count": 37,
      "metadata": {
        "ExecuteTime": {
          "end_time": "2023-02-28T09:37:14.468821Z",
          "start_time": "2023-02-28T09:37:14.104799Z"
        },
        "id": "PVH9WwahKvKl"
      },
      "outputs": [],
      "source": [
        "import numpy.random as rnd\n",
        "\n",
        "def simulate(mc, init_dist, N):\n",
        "    initial_state = rnd.choice(mc[0], p=init_dist[0])\n",
        "    trajectory = (initial_state,)\n",
        "    for step in range(1, N):\n",
        "        trajectory += (rnd.choice(mc[0], p=mc[1][int(trajectory[step-1])]),)\n",
        "\n",
        "    return trajectory"
      ]
    },
    {
      "cell_type": "markdown",
      "metadata": {
        "id": "MCFMhJEJKvKm"
      },
      "source": [
        "Example of application of the function with the chain $M$ from Activity 1.\n",
        "\n",
        "```python\n",
        "import numpy.random as rnd\n",
        "\n",
        "rnd.seed(42)\n",
        "\n",
        "print('- Chain from \"example.npy\" -')\n",
        "\n",
        "# Number of states\n",
        "nS = len(Msmall[0])\n",
        "\n",
        "# Initial, uniform distribution\n",
        "u = np.ones((1, nS)) / nS\n",
        "\n",
        "# Simulate short trajectory\n",
        "traj = simulate(Msmall, u, 10)\n",
        "print('Small trajectory:', traj)\n",
        "\n",
        "# Simulate a long trajectory\n",
        "traj = simulate(Msmall, u, 10000)\n",
        "print('End of large trajectory:', traj[-10:])\n",
        "\n",
        "print('\\n- Chain from \"citations.npy\" -')\n",
        "\n",
        "# Number of states\n",
        "nS = len(Mlarge[0])\n",
        "\n",
        "# Initial, uniform distribution\n",
        "u = np.ones((1, nS)) / nS\n",
        "\n",
        "# Simulate short trajectory\n",
        "traj = simulate(Mlarge, u, 10)\n",
        "print('Small trajectory:', traj)\n",
        "\n",
        "# Simulate a long trajectory\n",
        "traj = simulate(Mlarge, u, 10000)\n",
        "print('End of large trajectory:', traj[-10:])\n",
        "```\n",
        "\n",
        "Output:\n",
        "```\n",
        "- Chain from \"example.npy\" -\n",
        "Small trajectory: ('4', '6', '5', '6', '4', '5', '5', '6', '5', '6')\n",
        "End of large trajectory: ('9', '8', '9', '8', '9', '8', '3', '8', '9', '8')\n",
        "\n",
        "- Chain from \"citations.npy\" -\n",
        "Small trajectory: ('1668', '1667', '1668', '1667', '996', '241', '119', '6', '119', '6')\n",
        "End of large trajectory: ('623', '175', '174', '175', '456', '455', '1112', '1406', '1523', '1406')\n",
        "```\n",
        "\n",
        "Note that, even if the seed is fixed, it is possible that your trajectories are slightly different."
      ]
    },
    {
      "cell_type": "markdown",
      "metadata": {
        "id": "Q9BJPb5WKvKm"
      },
      "source": [
        "---\n",
        "\n",
        "#### Activity 6\n",
        "\n",
        "Use the function `simulate` from Activity #5 to generate a 50,000-step trajectory in the chain obtained from `example.npy` using a uniform distribution as initial distribution. Plot the histogram of the obtained trajectory using the function `hist` from the module `matplotlib.pyplot`. Make sure that the histogram has one bin for each state. Compare the relative frequencies with the result of Activity #3, plotting the latter on top of the histogram.\n",
        "\n",
        "**Note**: Don't forget to load `matplotlib`.\n",
        "\n",
        "**Note 2**: Recall that the states in the trajectory obtained from the function `simulate` consist of *strings*, which should be converted to state indices to match the entries in the distribution computed in Activity #3.\n",
        "\n",
        "---"
      ]
    },
    {
      "cell_type": "code",
      "execution_count": 45,
      "metadata": {
        "ExecuteTime": {
          "end_time": "2023-02-28T09:37:18.785743Z",
          "start_time": "2023-02-28T09:37:14.470835Z"
        },
        "id": "jEJQbQnEKvKn"
      },
      "outputs": [
        {
          "data": {
            "image/png": "[encoded data removed]",
            "text/plain": [
              "<Figure size 640x480 with 1 Axes>"
            ]
          },
          "metadata": {},
          "output_type": "display_data"
        }
      ],
      "source": [
        "# Add your code here.\n",
        "\n",
        "import matplotlib.pyplot as plt\n",
        "\n",
        "chain = load_chain(\"../example.npy\", 0.11)\n",
        "\n",
        "mu_0 = np.ones(shape=(1,len(chain[0])))/len(chain[0]) # uniform distribution\n",
        "\n",
        "path = simulate(chain, mu_0, 50000)\n",
        "\n",
        "path =  np.array(np.sort(path), dtype=np.int64)\n",
        "\n",
        "plt.hist(path, bins=[x + 0.5 for x in range(len(chain[0])+1)], density=True)\n",
        "plt.plot([x + 0.5 for x in range(len(chain[0]))], stationary_dist(chain), 'ro')\n",
        "\n",
        "plt.show()\n"
      ]
    }
  ],
  "metadata": {
    "colab": {
      "provenance": []
    },
    "kernelspec": {
      "display_name": "Python 3",
      "language": "python",
      "name": "python3"
    },
    "language_info": {
      "codemirror_mode": {
        "name": "ipython",
        "version": 3
      },
      "file_extension": ".py",
      "mimetype": "text/x-python",
      "name": "python",
      "nbconvert_exporter": "python",
      "pygments_lexer": "ipython3",
      "version": "3.8.10"
    },
    "latex_envs": {
      "LaTeX_envs_menu_present": true,
      "autoclose": false,
      "autocomplete": true,
      "bibliofile": "biblio.bib",
      "cite_by": "apalike",
      "current_citInitial": 1,
      "eqLabelWithNumbers": true,
      "eqNumInitial": 1,
      "hotkeys": {
        "equation": "Ctrl-E",
        "itemize": "Ctrl-I"
      },
      "labels_anchors": false,
      "latex_user_defs": false,
      "report_style_numbering": false,
      "user_envs_cfg": false
    }
  },
  "nbformat": 4,
  "nbformat_minor": 0
}
